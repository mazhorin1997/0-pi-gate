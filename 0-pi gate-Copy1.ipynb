{
 "cells": [
  {
   "cell_type": "code",
   "execution_count": 1,
   "metadata": {
    "ExecuteTime": {
     "end_time": "2021-02-24T07:16:17.716303Z",
     "start_time": "2021-02-24T07:16:16.857272Z"
    }
   },
   "outputs": [],
   "source": [
    "#import sympy\n",
    "import numpy as np\n",
    "import copy\n",
    "import matplotlib.pyplot as plt\n",
    "from numpy import pi,linspace,tensordot\n",
    "import scipy\n",
    "import tensorflow as tf\n",
    "import Spectrum as spect\n",
    "import time\n",
    "import tqdm\n",
    "#from scipy.interpolate import interp1d"
   ]
  },
  {
   "cell_type": "markdown",
   "metadata": {},
   "source": [
    "# Упрощенный расчет 0-pi"
   ]
  },
  {
   "cell_type": "code",
   "execution_count": 3,
   "metadata": {},
   "outputs": [],
   "source": [
    "def upr(Ec,Ek,El,Em,dim,z,ng,r):\n",
    "    print('Ec=',Ec)\n",
    "    print('Ek=',Ek)\n",
    "    print('El=',El)\n",
    "    print('Em=',Em)\n",
    "    a=-np.pi/2\n",
    "    b=np.pi*3/2\n",
    "    (h,b)=spect.dividing(1,[a],[b],[1],dim)\n",
    "    (fi,N)=spect.basis(1,dim,[a],b)\n",
    "    m=z.shape[0]\n",
    "    p=ng.shape[0]\n",
    "    B=np.zeros((r,m,p))\n",
    "    fm2=np.tensordot(linspace(0,0,N),tensordot(linspace(0,0,r),tensordot(linspace(0,0,m),linspace(0,0,p),axes=0),axes=0),axes=0)\n",
    "    A0=np.tensordot(linspace(0,0,N),linspace(0,0,N),axes=0)\n",
    "    A0=spect.fillingA(Ec,A0,dim,h,mode='n**2',bound='periodic')\n",
    "    for k in tqdm.tqdm(range(0,m)):\n",
    "        F=z[k]*2*pi\n",
    "        A1=copy.copy(A0)\n",
    "        for i in range(0,N):\n",
    "            A1[i,i]+=-(Ek-El*np.cos(F))*np.cos(2*fi[i,0])-Em*np.cos(F/2)*np.cos(fi[i,0])\n",
    "        for l in (range(0,p)):\n",
    "            A=copy.copy(A1)\n",
    "            #A0=spect.fillingA(-2*Ec*ng[l],A0,dim,h,mode='n',bound='periodic')\n",
    "            #for i in range(0,N):\n",
    "            #    A[i,i]+=Ec*ng[l]**2   \n",
    "            (B2,f)= scipy.sparse.linalg.eigsh(scipy.sparse.csr_matrix(A),k=r,which='SA',maxiter=4000)\n",
    "            #(B2,f)= np.linalg.eig(A)\n",
    "            l_order=np.argsort(np.real(B2))\n",
    "            B2=B2[l_order]\n",
    "            f=f[:,l_order]\n",
    "            B[:,k,l]=B2\n",
    "            fm2[:,:,k,l]=f\n",
    "            #print(A)\n",
    "    return (B,fm2)"
   ]
  },
  {
   "cell_type": "code",
   "execution_count": 4,
   "metadata": {},
   "outputs": [
    {
     "name": "stderr",
     "output_type": "stream",
     "text": [
      "\r",
      "  0%|                                                                                           | 0/51 [00:00<?, ?it/s]"
     ]
    },
    {
     "name": "stdout",
     "output_type": "stream",
     "text": [
      "Ec= 0.028\n",
      "Ek= 0.74432\n",
      "El= 4.0292e-07\n",
      "Em= 0.0010650000000000002\n"
     ]
    },
    {
     "name": "stderr",
     "output_type": "stream",
     "text": [
      "100%|██████████████████████████████████████████████████████████████████████████████████| 51/51 [00:23<00:00,  2.21it/s]\n"
     ]
    }
   ],
   "source": [
    "z=np.linspace(0,1,51)\n",
    "Ec=4*1.75*1e-4*40\n",
    "Ek=1.8608*1e-2*40\n",
    "El=1.0073*1e-8*40\n",
    "Em=2.6625*1e-5*40\n",
    "dim=np.asarray([1000])\n",
    "(B2,fm)=upr(4*1.75*1e-4*40,1.8608*1e-2*40,1.0073*1e-8*40,2.6625*1e-5*40,dim,z,np.linspace(0,0,1),50)"
   ]
  },
  {
   "cell_type": "code",
   "execution_count": 352,
   "metadata": {},
   "outputs": [
    {
     "data": {
      "text/plain": [
       "[<matplotlib.lines.Line2D at 0x259677bd388>]"
      ]
     },
     "execution_count": 352,
     "metadata": {},
     "output_type": "execute_result"
    }
   ],
   "source": [
    "plt.figure()\n",
    "plt.plot(z,B2[0,:,0]-B2[0,:,0])\n",
    "plt.plot(z,B2[1,:,0]-B2[0,:,0])"
   ]
  },
  {
   "cell_type": "code",
   "execution_count": 10,
   "metadata": {},
   "outputs": [
    {
     "name": "stdout",
     "output_type": "stream",
     "text": [
      "8.609999999999957\n"
     ]
    }
   ],
   "source": [
    "start=time.monotonic()\n",
    "nq=50#dim[0]\n",
    "m=z.shape[0]\n",
    "a=-np.pi/2\n",
    "b=np.pi*3/2\n",
    "(h,b)=spect.dividing(1,[a],[b],[1],dim)\n",
    "(fi,N)=spect.basis(1,dim,[a],b)\n",
    "A0=np.tensordot(linspace(0j,0j,N),linspace(0,0,N),axes=0)\n",
    "n=spect.fillingA(1,A0,dim,h,mode='n',axes=0,bound='periodic')\n",
    "#n=np.diag(fi[:,0]+0j)\n",
    "n_new=tf.zeros((nq,nq,m),dtype=tf.complex64)\n",
    "n_new=tf.einsum('imk,il,ljk->mjk',fm[:,:nq,:,0],n,fm[:,:nq,:,0].conjugate())\n",
    "#n_new=n\n",
    "print(time.monotonic()-start)"
   ]
  },
  {
   "cell_type": "code",
   "execution_count": 361,
   "metadata": {},
   "outputs": [],
   "source": [
    "n=n_new[:,:,0]"
   ]
  },
  {
   "cell_type": "code",
   "execution_count": 338,
   "metadata": {},
   "outputs": [],
   "source": [
    "plt.figure()\n",
    "for i in range(0,1):\n",
    "    plt.plot(abs(fm[:,i+1,0,0]))\n",
    "    #plt.plot(abs(tf.linalg.expm(-1j*n*np.pi/2)@fm[:,i:i+1,0,0]))"
   ]
  },
  {
   "cell_type": "code",
   "execution_count": 27,
   "metadata": {},
   "outputs": [],
   "source": [
    "# think about writting of interaction hamiltoninian (there is an exponenta depending on time)\n",
    "def evolution(nq,H1,V1,dt,step,w):\n",
    "    start=time.monotonic()\n",
    "    # density matrix\n",
    "    #ro=np.zeros((nq,nq),dtype=complex)\n",
    "    #ro[0,0]=1\n",
    "    psi0=np.zeros((nq,1),dtype=complex)\n",
    "    psi0[0]=1\n",
    "    #psi0[1]=0\n",
    "    #psi0=fm[:,0:1,0,0]\n",
    "    psi=[]\n",
    "    with tf.device(\"GPU:0\"):\n",
    "        for j in tqdm.tqdm(range(0,w.shape[0])):\n",
    "            V=V1*w[j]\n",
    "            psi1=[]\n",
    "            psi1.append(psi0)\n",
    "            for i in range(0,step):\n",
    "                a=(tf.linalg.expm(1j*(H1+V)*dt/w[j])@psi1[i])\n",
    "                psi1.append(a/np.linalg.norm(a))\n",
    "                \n",
    "                #psi1.append(tf.linalg.expm(1j*(H1+V)*dt/w[j])@psi1[i])\n",
    "                \n",
    "                #psi1.append(np.linalg.norm(tf.linalg.expm(1j*(H1+V)*dt*i)@psi0))\n",
    "                #psi1.append(tf.linalg.expm(1j*(H1+V)*dt*i)@psi0)\n",
    "                #psi1.append(tf.linalg.expm(-1j*(V)*2*np.pi)@tf.linalg.expm(1j*(H1)*dt*i)@tf.linalg.expm(1j*(V)*np.pi)@psi0)\n",
    "                #psi1.append(tf.linalg.expm(-1j*(V)*np.pi/2)@tf.linalg.expm(1j*(H1)*dt*i)@tf.linalg.expm(1j*(V)*np.pi/2)@psi0)\n",
    "            psi.append(np.asarray(psi1))\n",
    "        print(time.monotonic()-start)\n",
    "    return np.asarray(psi)"
   ]
  },
  {
   "cell_type": "code",
   "execution_count": 28,
   "metadata": {},
   "outputs": [
    {
     "name": "stderr",
     "output_type": "stream",
     "text": [
      "100%|████████████████████████████████████████████████████████████████████████████████████| 1/1 [01:18<00:00, 78.09s/it]"
     ]
    },
    {
     "name": "stdout",
     "output_type": "stream",
     "text": [
      "78.10899999999947\n"
     ]
    },
    {
     "name": "stderr",
     "output_type": "stream",
     "text": [
      "\n"
     ]
    }
   ],
   "source": [
    "w=np.linspace(20,20,1)\n",
    "step=3000\n",
    "dt=0.001\n",
    "nq=20\n",
    "(psi1)=evolution(nq,B2[:nq,0,0]-B2[0,0,0],n_new[:nq,:nq,0],dt,step,w)"
   ]
  },
  {
   "cell_type": "code",
   "execution_count": 387,
   "metadata": {},
   "outputs": [
    {
     "data": {
      "text/plain": [
       "(20, 301, 50, 1)"
      ]
     },
     "execution_count": 387,
     "metadata": {},
     "output_type": "execute_result"
    }
   ],
   "source": [
    "psi1.shape"
   ]
  },
  {
   "cell_type": "code",
   "execution_count": 49,
   "metadata": {},
   "outputs": [],
   "source": [
    "step=10\n",
    "t=np.linspace(dt,step*dt,step)\n",
    "plt.figure()\n",
    "for i in range(0,1):\n",
    "    plt.plot(t,np.abs(psi[0,:step])**2)"
   ]
  },
  {
   "cell_type": "code",
   "execution_count": 240,
   "metadata": {},
   "outputs": [],
   "source": [
    "step=2\n",
    "t=np.linspace(dt,step*dt,step)\n",
    "plt.figure()\n",
    "for i in range(0,10):\n",
    "    plt.plot(t,np.abs(np.einsum('i,ji->j',fm[:,i,0,0].conjugate(),psi1[0,:step,:,0]))**2)"
   ]
  },
  {
   "cell_type": "code",
   "execution_count": 31,
   "metadata": {},
   "outputs": [],
   "source": [
    "step1=step+1\n",
    "t=np.linspace(dt,step1*dt,step1)\n",
    "plt.figure()\n",
    "for i in range(0,10):\n",
    "    plt.plot(t,np.abs(psi1[0,:step1,i,0])**2)"
   ]
  },
  {
   "cell_type": "code",
   "execution_count": 30,
   "metadata": {},
   "outputs": [
    {
     "name": "stderr",
     "output_type": "stream",
     "text": [
      "C:\\Users\\mazho\\anaconda3\\envs\\tf-gpu\\lib\\site-packages\\ipykernel_launcher.py:4: MatplotlibDeprecationWarning: shading='flat' when X and Y have the same dimensions as C is deprecated since 3.3.  Either specify the corners of the quadrilaterals with X and Y, or pass shading='auto', 'nearest' or 'gouraud', or set rcParams['pcolor.shading'].  This will become an error two minor releases later.\n",
      "  after removing the cwd from sys.path.\n"
     ]
    },
    {
     "data": {
      "text/plain": [
       "<matplotlib.collections.QuadMesh at 0x123c65c2988>"
      ]
     },
     "execution_count": 30,
     "metadata": {},
     "output_type": "execute_result"
    }
   ],
   "source": [
    "step1=step+1\n",
    "t=np.linspace(dt,step1*dt,step1)\n",
    "plt.figure()\n",
    "plt.pcolormesh(t,w,np.abs(psi1[:,:,0,0])**2)"
   ]
  },
  {
   "cell_type": "code",
   "execution_count": 129,
   "metadata": {},
   "outputs": [],
   "source": [
    "plt.figure()\n",
    "for i in range(0,2):\n",
    "    plt.plot(abs(fm[:,i,0,0]))"
   ]
  },
  {
   "cell_type": "markdown",
   "metadata": {},
   "source": [
    "# Другой расчет гейта "
   ]
  },
  {
   "cell_type": "code",
   "execution_count": 3,
   "metadata": {},
   "outputs": [],
   "source": [
    "def zero_pi(degrees,El1,Ej,Ec1,Ec0,E0,g1,g0,dim,period,a,b,z,ng,r):\n",
    "    print('El1=',El1)\n",
    "    print('Ej=',Ej)\n",
    "    print('Ec1=',Ec1)\n",
    "    print('Ec0=',Ec0)\n",
    "    print('E0=',E0)\n",
    "    print('g1=',g1)\n",
    "    print('g0=',g0)\n",
    "    (h,b)=spect.dividing(degrees,a,b,period,dim)\n",
    "    (fi,N)=spect.basis(degrees,dim,a,b)\n",
    "    m=z.shape[0]\n",
    "    p=ng.shape[0]\n",
    "    B=np.zeros((r,m,p))\n",
    "    fm2=np.tensordot(linspace(0,0,N),tensordot(linspace(0,0,r),tensordot(linspace(0,0,m),linspace(0,0,p),axes=0),axes=0),axes=0)\n",
    "    A0=np.tensordot(linspace(0,0,N),linspace(0,0,N),axes=0)\n",
    "    #A0=spect.fillingA(Ec0,A0,dim,h,bound='periodic')\n",
    "    A0=spect.fillingA(Ec1,A0,dim,h,axes=1)\n",
    "    if degrees==3:    \n",
    "        A0=spect.fillingA(g0,A0,dim,h,mode='n*nr',axesr=2)\n",
    "        A0=spect.fillingA(g1,A0,dim,h,mode='n*nr',axes=1,axesr=2)\n",
    "    if degrees==3:\n",
    "        for i in range(0,N):\n",
    "            A0[i,i]+=El1*fi[i,1]**2+E0*(fi[i,2]+0.5)\n",
    "    else:\n",
    "        for i in range(0,N):\n",
    "            A0[i,i]+=El1*fi[i,1]**2+Ec0*fi[i,0]**2+2*Ej\n",
    "    for k in range(0,m):\n",
    "        F=z[k]*2*pi\n",
    "        #A=A0+diag(Ej*(1-cos(0.5*fi[:,0]-0.5*fi[:,1]+F)))\n",
    "        A1=copy.copy(A0)\n",
    "        '''for i in range(0,N):\n",
    "            A1[i,i]+=2*Ej*(1-np.cos(fi[i,0])*np.cos(fi[i,1]-F/2))'''\n",
    "        for i in range(0,dim[0]-1):\n",
    "            for j in range(0,dim[1]):\n",
    "                A1[i*dim[1]+j,(i+1)*dim[1]+j]+=-Ej*np.cos(fi[j,1]-F/2)\n",
    "                A1[(i+1)*dim[1]+j,i*dim[1]+j]+=-Ej*np.cos(fi[j,1]-F/2)\n",
    "        for l in tqdm.tqdm(range(0,p)):\n",
    "            A=copy.copy(A1)\n",
    "            for i in range(0,N):\n",
    "                A[i,i]+=2*Ec0*ng[l]*fi[i,0]+Ec0*ng[l]**2   \n",
    "            (B2,f)= scipy.sparse.linalg.eigsh(scipy.sparse.csr_matrix(A),k=r,which='SA',maxiter=4000)\n",
    "            l_order=np.argsort(np.real(B2))\n",
    "            B2=B2[l_order]\n",
    "            f=f[:,l_order]\n",
    "            B[:,k,l]=B2\n",
    "            fm2[:,:,k,l]=f\n",
    "            #print(A)\n",
    "    return (B,fm2)"
   ]
  },
  {
   "cell_type": "code",
   "execution_count": 29,
   "metadata": {
    "collapsed": true
   },
   "outputs": [
    {
     "name": "stdout",
     "output_type": "stream",
     "text": [
      "El1= 0.04\n",
      "Ej= 6.6000000000000005\n",
      "Ec1= 60.480000000000004\n",
      "Ec0= 0.028\n",
      "E0= 0\n",
      "g1= 0\n",
      "g0= 0\n"
     ]
    },
    {
     "name": "stderr",
     "output_type": "stream",
     "text": [
      "  0%|                                                                                            | 0/1 [00:10<?, ?it/s]\n"
     ]
    },
    {
     "ename": "KeyboardInterrupt",
     "evalue": "",
     "output_type": "error",
     "traceback": [
      "\u001b[1;31m---------------------------------------------------------------------------\u001b[0m",
      "\u001b[1;31mKeyboardInterrupt\u001b[0m                         Traceback (most recent call last)",
      "\u001b[1;32m<ipython-input-29-e04089c75d70>\u001b[0m in \u001b[0;36m<module>\u001b[1;34m\u001b[0m\n\u001b[0;32m     18\u001b[0m \u001b[1;31m#ng=np.linspace(0,1,101)\u001b[0m\u001b[1;33m\u001b[0m\u001b[1;33m\u001b[0m\u001b[1;33m\u001b[0m\u001b[0m\n\u001b[0;32m     19\u001b[0m \u001b[0mr\u001b[0m\u001b[1;33m=\u001b[0m\u001b[1;36m40\u001b[0m\u001b[1;33m\u001b[0m\u001b[1;33m\u001b[0m\u001b[0m\n\u001b[1;32m---> 20\u001b[1;33m \u001b[1;33m(\u001b[0m\u001b[0mB\u001b[0m\u001b[1;33m,\u001b[0m\u001b[0mfm2\u001b[0m\u001b[1;33m)\u001b[0m\u001b[1;33m=\u001b[0m\u001b[0mzero_pi\u001b[0m\u001b[1;33m(\u001b[0m\u001b[0mdegrees\u001b[0m\u001b[1;33m,\u001b[0m\u001b[0mEl1\u001b[0m\u001b[1;33m,\u001b[0m\u001b[0mEj\u001b[0m\u001b[1;33m,\u001b[0m\u001b[0mEc1\u001b[0m\u001b[1;33m,\u001b[0m\u001b[0mEc0\u001b[0m\u001b[1;33m,\u001b[0m\u001b[0mE0\u001b[0m\u001b[1;33m,\u001b[0m\u001b[0mg1\u001b[0m\u001b[1;33m,\u001b[0m\u001b[0mg0\u001b[0m\u001b[1;33m,\u001b[0m\u001b[0mdim\u001b[0m\u001b[1;33m,\u001b[0m\u001b[0mperiod\u001b[0m\u001b[1;33m,\u001b[0m\u001b[0ma\u001b[0m\u001b[1;33m,\u001b[0m\u001b[0mb\u001b[0m\u001b[1;33m,\u001b[0m\u001b[0mz\u001b[0m\u001b[1;33m,\u001b[0m\u001b[0mng\u001b[0m\u001b[1;33m,\u001b[0m\u001b[0mr\u001b[0m\u001b[1;33m)\u001b[0m\u001b[1;33m\u001b[0m\u001b[1;33m\u001b[0m\u001b[0m\n\u001b[0m\u001b[0;32m     21\u001b[0m \u001b[0mprint\u001b[0m\u001b[1;33m(\u001b[0m\u001b[0mtime\u001b[0m\u001b[1;33m.\u001b[0m\u001b[0mmonotonic\u001b[0m\u001b[1;33m(\u001b[0m\u001b[1;33m)\u001b[0m\u001b[1;33m-\u001b[0m\u001b[0mstart\u001b[0m\u001b[1;33m)\u001b[0m\u001b[1;33m\u001b[0m\u001b[1;33m\u001b[0m\u001b[0m\n",
      "\u001b[1;32m<ipython-input-3-7818afe6f626>\u001b[0m in \u001b[0;36mzero_pi\u001b[1;34m(degrees, El1, Ej, Ec1, Ec0, E0, g1, g0, dim, period, a, b, z, ng, r)\u001b[0m\n\u001b[0;32m     36\u001b[0m                 \u001b[0mA1\u001b[0m\u001b[1;33m[\u001b[0m\u001b[1;33m(\u001b[0m\u001b[0mi\u001b[0m\u001b[1;33m+\u001b[0m\u001b[1;36m1\u001b[0m\u001b[1;33m)\u001b[0m\u001b[1;33m*\u001b[0m\u001b[0mdim\u001b[0m\u001b[1;33m[\u001b[0m\u001b[1;36m1\u001b[0m\u001b[1;33m]\u001b[0m\u001b[1;33m+\u001b[0m\u001b[0mj\u001b[0m\u001b[1;33m,\u001b[0m\u001b[0mi\u001b[0m\u001b[1;33m*\u001b[0m\u001b[0mdim\u001b[0m\u001b[1;33m[\u001b[0m\u001b[1;36m1\u001b[0m\u001b[1;33m]\u001b[0m\u001b[1;33m+\u001b[0m\u001b[0mj\u001b[0m\u001b[1;33m]\u001b[0m\u001b[1;33m+=\u001b[0m\u001b[1;33m-\u001b[0m\u001b[0mEj\u001b[0m\u001b[1;33m*\u001b[0m\u001b[0mnp\u001b[0m\u001b[1;33m.\u001b[0m\u001b[0mcos\u001b[0m\u001b[1;33m(\u001b[0m\u001b[0mfi\u001b[0m\u001b[1;33m[\u001b[0m\u001b[0mj\u001b[0m\u001b[1;33m,\u001b[0m\u001b[1;36m1\u001b[0m\u001b[1;33m]\u001b[0m\u001b[1;33m-\u001b[0m\u001b[0mF\u001b[0m\u001b[1;33m/\u001b[0m\u001b[1;36m2\u001b[0m\u001b[1;33m)\u001b[0m\u001b[1;33m\u001b[0m\u001b[1;33m\u001b[0m\u001b[0m\n\u001b[0;32m     37\u001b[0m         \u001b[1;32mfor\u001b[0m \u001b[0ml\u001b[0m \u001b[1;32min\u001b[0m \u001b[0mtqdm\u001b[0m\u001b[1;33m.\u001b[0m\u001b[0mtqdm\u001b[0m\u001b[1;33m(\u001b[0m\u001b[0mrange\u001b[0m\u001b[1;33m(\u001b[0m\u001b[1;36m0\u001b[0m\u001b[1;33m,\u001b[0m\u001b[0mp\u001b[0m\u001b[1;33m)\u001b[0m\u001b[1;33m)\u001b[0m\u001b[1;33m:\u001b[0m\u001b[1;33m\u001b[0m\u001b[1;33m\u001b[0m\u001b[0m\n\u001b[1;32m---> 38\u001b[1;33m             \u001b[0mA\u001b[0m\u001b[1;33m=\u001b[0m\u001b[0mcopy\u001b[0m\u001b[1;33m.\u001b[0m\u001b[0mcopy\u001b[0m\u001b[1;33m(\u001b[0m\u001b[0mA1\u001b[0m\u001b[1;33m)\u001b[0m\u001b[1;33m\u001b[0m\u001b[1;33m\u001b[0m\u001b[0m\n\u001b[0m\u001b[0;32m     39\u001b[0m             \u001b[1;32mfor\u001b[0m \u001b[0mi\u001b[0m \u001b[1;32min\u001b[0m \u001b[0mrange\u001b[0m\u001b[1;33m(\u001b[0m\u001b[1;36m0\u001b[0m\u001b[1;33m,\u001b[0m\u001b[0mN\u001b[0m\u001b[1;33m)\u001b[0m\u001b[1;33m:\u001b[0m\u001b[1;33m\u001b[0m\u001b[1;33m\u001b[0m\u001b[0m\n\u001b[0;32m     40\u001b[0m                 \u001b[0mA\u001b[0m\u001b[1;33m[\u001b[0m\u001b[0mi\u001b[0m\u001b[1;33m,\u001b[0m\u001b[0mi\u001b[0m\u001b[1;33m]\u001b[0m\u001b[1;33m+=\u001b[0m\u001b[1;36m2\u001b[0m\u001b[1;33m*\u001b[0m\u001b[0mEc0\u001b[0m\u001b[1;33m*\u001b[0m\u001b[0mng\u001b[0m\u001b[1;33m[\u001b[0m\u001b[0ml\u001b[0m\u001b[1;33m]\u001b[0m\u001b[1;33m*\u001b[0m\u001b[0mfi\u001b[0m\u001b[1;33m[\u001b[0m\u001b[0mi\u001b[0m\u001b[1;33m,\u001b[0m\u001b[1;36m0\u001b[0m\u001b[1;33m]\u001b[0m\u001b[1;33m+\u001b[0m\u001b[0mEc0\u001b[0m\u001b[1;33m*\u001b[0m\u001b[0mng\u001b[0m\u001b[1;33m[\u001b[0m\u001b[0ml\u001b[0m\u001b[1;33m]\u001b[0m\u001b[1;33m**\u001b[0m\u001b[1;36m2\u001b[0m\u001b[1;33m\u001b[0m\u001b[1;33m\u001b[0m\u001b[0m\n",
      "\u001b[1;32m~\\anaconda3\\envs\\tf-gpu\\lib\\copy.py\u001b[0m in \u001b[0;36mcopy\u001b[1;34m(x)\u001b[0m\n\u001b[0;32m     86\u001b[0m     \u001b[0mcopier\u001b[0m \u001b[1;33m=\u001b[0m \u001b[0mgetattr\u001b[0m\u001b[1;33m(\u001b[0m\u001b[0mcls\u001b[0m\u001b[1;33m,\u001b[0m \u001b[1;34m\"__copy__\"\u001b[0m\u001b[1;33m,\u001b[0m \u001b[1;32mNone\u001b[0m\u001b[1;33m)\u001b[0m\u001b[1;33m\u001b[0m\u001b[1;33m\u001b[0m\u001b[0m\n\u001b[0;32m     87\u001b[0m     \u001b[1;32mif\u001b[0m \u001b[0mcopier\u001b[0m\u001b[1;33m:\u001b[0m\u001b[1;33m\u001b[0m\u001b[1;33m\u001b[0m\u001b[0m\n\u001b[1;32m---> 88\u001b[1;33m         \u001b[1;32mreturn\u001b[0m \u001b[0mcopier\u001b[0m\u001b[1;33m(\u001b[0m\u001b[0mx\u001b[0m\u001b[1;33m)\u001b[0m\u001b[1;33m\u001b[0m\u001b[1;33m\u001b[0m\u001b[0m\n\u001b[0m\u001b[0;32m     89\u001b[0m \u001b[1;33m\u001b[0m\u001b[0m\n\u001b[0;32m     90\u001b[0m     \u001b[0mreductor\u001b[0m \u001b[1;33m=\u001b[0m \u001b[0mdispatch_table\u001b[0m\u001b[1;33m.\u001b[0m\u001b[0mget\u001b[0m\u001b[1;33m(\u001b[0m\u001b[0mcls\u001b[0m\u001b[1;33m)\u001b[0m\u001b[1;33m\u001b[0m\u001b[1;33m\u001b[0m\u001b[0m\n",
      "\u001b[1;31mKeyboardInterrupt\u001b[0m: "
     ]
    }
   ],
   "source": [
    "start=time.monotonic()\n",
    "degrees=2\n",
    "E0=0\n",
    "g1=0\n",
    "g0=0\n",
    "wp=40\n",
    "El1=1e-3*wp\n",
    "Ej=0.165*wp\n",
    "Ec0=1.75*1e-4*wp*4\n",
    "Ec1=0.378*wp*4\n",
    "dim=np.asarray([71,400])\n",
    "period=[0,0]\n",
    "a=[-35,-10*pi]\n",
    "b=[35,10*pi]\n",
    "z=np.linspace(0,0,1)\n",
    "ng=np.linspace(0,0,1)\n",
    "#z=np.linspace(0,0,1)\n",
    "#ng=np.linspace(0,1,101)\n",
    "r=40\n",
    "(B,fm2)=zero_pi(degrees,El1,Ej,Ec1,Ec0,E0,g1,g0,dim,period,a,b,z,ng,r)\n",
    "print(time.monotonic()-start)\n"
   ]
  },
  {
   "cell_type": "code",
   "execution_count": 373,
   "metadata": {},
   "outputs": [],
   "source": [
    "phi=np.linspace(a[1],b[1],dim[1])\n",
    "U=El1*np.tensordot(theta**0,phi**2,axes=0)+2*Ej*(1-np.cos(np.tensordot(theta**0,phi,axes=0))*np.cos(np.tensordot(theta,phi**0,axes=0)))\n"
   ]
  },
  {
   "cell_type": "code",
   "execution_count": 5,
   "metadata": {},
   "outputs": [],
   "source": [
    "def from_1d_2d(fm1,dim):\n",
    "    f=tensordot(linspace(0,0,dim[0]),linspace(0,0,dim[1]),axes=0)\n",
    "    for i in range(0,dim[0]):\n",
    "        f[i,:]=fm1[i*dim[1]:(i+1)*dim[1]]\n",
    "    return f"
   ]
  },
  {
   "cell_type": "code",
   "execution_count": 20,
   "metadata": {},
   "outputs": [],
   "source": [
    "nq=r\n",
    "f=[]\n",
    "for i in range(0,nq):\n",
    "    #plt.figure()\n",
    "    f.append(from_1d_2d(fm2[:,i,0,0],dim))\n",
    "    #plt.pcolormesh(f[i])"
   ]
  },
  {
   "cell_type": "code",
   "execution_count": 22,
   "metadata": {},
   "outputs": [],
   "source": [
    "nq=40\n",
    "f_200=[]\n",
    "for i in range(0,nq):\n",
    "    #plt.figure()\n",
    "    f_200.append(from_1d_2d(fm2[:,i,0,0],dim))\n",
    "    #plt.pcolormesh(f[i])"
   ]
  },
  {
   "cell_type": "code",
   "execution_count": 23,
   "metadata": {},
   "outputs": [
    {
     "name": "stdout",
     "output_type": "stream",
     "text": [
      "tf.Tensor(0.99999999999994, shape=(), dtype=float64)\n",
      "tf.Tensor(0.99999999999994, shape=(), dtype=float64)\n",
      "tf.Tensor(0.9999999999999343, shape=(), dtype=float64)\n",
      "tf.Tensor(0.9999999999999121, shape=(), dtype=float64)\n",
      "tf.Tensor(0.9999999999999286, shape=(), dtype=float64)\n",
      "tf.Tensor(0.9999999999999368, shape=(), dtype=float64)\n",
      "tf.Tensor(0.9999999999999367, shape=(), dtype=float64)\n",
      "tf.Tensor(0.9999999999999281, shape=(), dtype=float64)\n",
      "tf.Tensor(0.9999999999999217, shape=(), dtype=float64)\n",
      "tf.Tensor(0.9999999999999474, shape=(), dtype=float64)\n",
      "tf.Tensor(0.9999999999999327, shape=(), dtype=float64)\n",
      "tf.Tensor(0.9999999999999535, shape=(), dtype=float64)\n",
      "tf.Tensor(0.9999999999999475, shape=(), dtype=float64)\n",
      "tf.Tensor(0.9999999999999587, shape=(), dtype=float64)\n",
      "tf.Tensor(0.9999999999999556, shape=(), dtype=float64)\n",
      "tf.Tensor(0.9999999999999638, shape=(), dtype=float64)\n",
      "tf.Tensor(0.9999999999999656, shape=(), dtype=float64)\n",
      "tf.Tensor(0.9999999999999806, shape=(), dtype=float64)\n",
      "tf.Tensor(0.9999999999999707, shape=(), dtype=float64)\n",
      "tf.Tensor(0.9999999999999833, shape=(), dtype=float64)\n",
      "tf.Tensor(0.9999999999999489, shape=(), dtype=float64)\n",
      "tf.Tensor(0.9999999999999698, shape=(), dtype=float64)\n",
      "tf.Tensor(0.999999999999977, shape=(), dtype=float64)\n",
      "tf.Tensor(0.9999999999998894, shape=(), dtype=float64)\n",
      "tf.Tensor(0.999999999999894, shape=(), dtype=float64)\n",
      "tf.Tensor(0.9999999999999755, shape=(), dtype=float64)\n",
      "tf.Tensor(0.99999999999998, shape=(), dtype=float64)\n",
      "tf.Tensor(0.9999999999997041, shape=(), dtype=float64)\n",
      "tf.Tensor(0.9999999999996889, shape=(), dtype=float64)\n",
      "tf.Tensor(0.9999999999999671, shape=(), dtype=float64)\n",
      "tf.Tensor(0.999999999999972, shape=(), dtype=float64)\n",
      "tf.Tensor(0.999999999999974, shape=(), dtype=float64)\n",
      "tf.Tensor(0.9999999999999805, shape=(), dtype=float64)\n",
      "tf.Tensor(0.9999999999999738, shape=(), dtype=float64)\n",
      "tf.Tensor(0.9999966451313402, shape=(), dtype=float64)\n",
      "tf.Tensor(0.9999966451313619, shape=(), dtype=float64)\n",
      "tf.Tensor(0.999999999999982, shape=(), dtype=float64)\n",
      "tf.Tensor(0.9999999999999818, shape=(), dtype=float64)\n",
      "tf.Tensor(0.9999999999999758, shape=(), dtype=float64)\n",
      "tf.Tensor(0.9999999999999752, shape=(), dtype=float64)\n"
     ]
    }
   ],
   "source": [
    "for i in range(0,40):\n",
    "    if np.asarray(tf.einsum('ij,ij',f[i],f_200[i]))<0:\n",
    "        f_200[i]=-f_200[i]\n",
    "for i in range(0,40):\n",
    "    print(tf.einsum('ij,ij',f[i],f_200[i]))"
   ]
  },
  {
   "cell_type": "code",
   "execution_count": 71,
   "metadata": {},
   "outputs": [
    {
     "data": {
      "text/plain": [
       "<tf.Tensor: shape=(), dtype=float64, numpy=0.061747618082262784>"
      ]
     },
     "execution_count": 71,
     "metadata": {},
     "output_type": "execute_result"
    }
   ],
   "source": [
    "k=1\n",
    "j=30\n",
    "i=39\n",
    "tf.einsum('ij,ij',f[i][k:-k][j:-j],f[i][k:-k][j:-j])"
   ]
  },
  {
   "cell_type": "code",
   "execution_count": 189,
   "metadata": {},
   "outputs": [
    {
     "data": {
      "text/plain": [
       "<matplotlib.collections.QuadMesh at 0x1cf2bd0f348>"
      ]
     },
     "execution_count": 189,
     "metadata": {},
     "output_type": "execute_result"
    }
   ],
   "source": [
    "plt.figure()\n",
    "plt.pcolormesh(f[0])"
   ]
  },
  {
   "cell_type": "code",
   "execution_count": 195,
   "metadata": {},
   "outputs": [],
   "source": [
    "f3=tf.einsum('ij,jk->ik',np.real(tf.linalg.expm(-1j*np.pi*np.diag(np.linspace(-35,35,71)))),f[0])"
   ]
  },
  {
   "cell_type": "code",
   "execution_count": 196,
   "metadata": {},
   "outputs": [
    {
     "data": {
      "text/plain": [
       "<matplotlib.collections.QuadMesh at 0x1cf2d512348>"
      ]
     },
     "execution_count": 196,
     "metadata": {},
     "output_type": "execute_result"
    }
   ],
   "source": [
    "plt.figure()\n",
    "plt.pcolormesh(f3)"
   ]
  },
  {
   "cell_type": "code",
   "execution_count": 204,
   "metadata": {},
   "outputs": [
    {
     "data": {
      "text/plain": [
       "0.9029917994832402"
      ]
     },
     "execution_count": 204,
     "metadata": {},
     "output_type": "execute_result"
    }
   ],
   "source": [
    "abs(np.einsum('ij,ij',f3,f[1].conjugate()))**2"
   ]
  },
  {
   "cell_type": "code",
   "execution_count": 197,
   "metadata": {},
   "outputs": [],
   "source": [
    "n=np.linspace(a[0],b[0],dim[0])\n",
    "theta=np.linspace(-np.pi/2,np.pi*3/2,251)\n",
    "f4=n_phi(np.asarray(f3),n,theta)"
   ]
  },
  {
   "cell_type": "code",
   "execution_count": 198,
   "metadata": {},
   "outputs": [
    {
     "data": {
      "text/plain": [
       "<matplotlib.collections.QuadMesh at 0x1cf2d588b88>"
      ]
     },
     "execution_count": 198,
     "metadata": {},
     "output_type": "execute_result"
    }
   ],
   "source": [
    "plt.figure()\n",
    "plt.pcolormesh(abs(f4))"
   ]
  },
  {
   "cell_type": "code",
   "execution_count": 140,
   "metadata": {},
   "outputs": [],
   "source": [
    "ntheta=(np.diag(np.linspace(1,1,250),k=1)-np.diag(np.linspace(1,1,250),k=-1))\n",
    "ntheta[0,-1]=-1\n",
    "ntheta[-1,0]=1\n",
    "f5=tf.einsum('ij,jk->ik',tf.linalg.expm(1/(theta[1]-theta[0])*ntheta*np.pi/2),f1[0])"
   ]
  },
  {
   "cell_type": "code",
   "execution_count": 114,
   "metadata": {},
   "outputs": [
    {
     "data": {
      "text/plain": [
       "<tf.Tensor: shape=(), dtype=float64, numpy=2.1193643086967477>"
      ]
     },
     "execution_count": 114,
     "metadata": {},
     "output_type": "execute_result"
    }
   ],
   "source": [
    "np.gradient(f1[0],axis=0)\n",
    "tf.einsum('ij,ij',tf.einsum('ij,ik->jk',ntheta,f1[0]),np.asarray(tf.einsum('ij,ik->jk',ntheta,f1[0])).conjugate())"
   ]
  },
  {
   "cell_type": "code",
   "execution_count": 141,
   "metadata": {},
   "outputs": [
    {
     "data": {
      "text/plain": [
       "<matplotlib.collections.QuadMesh at 0x1cf2fcd9948>"
      ]
     },
     "execution_count": 141,
     "metadata": {},
     "output_type": "execute_result"
    }
   ],
   "source": [
    "plt.figure()\n",
    "plt.pcolormesh(abs(f5))"
   ]
  },
  {
   "cell_type": "code",
   "execution_count": 136,
   "metadata": {},
   "outputs": [
    {
     "data": {
      "text/plain": [
       "TensorShape([71, 401])"
      ]
     },
     "execution_count": 136,
     "metadata": {},
     "output_type": "execute_result"
    }
   ],
   "source": [
    "f5.shape"
   ]
  },
  {
   "cell_type": "code",
   "execution_count": 143,
   "metadata": {},
   "outputs": [],
   "source": [
    "n=np.linspace(a[0],b[0],dim[0])\n",
    "theta=np.linspace(-np.pi/2,np.pi*3/2,251)\n",
    "f6=n_phi(np.asarray(f5),theta,n)"
   ]
  },
  {
   "cell_type": "code",
   "execution_count": 144,
   "metadata": {},
   "outputs": [
    {
     "data": {
      "text/plain": [
       "<matplotlib.collections.QuadMesh at 0x1cf27cce3c8>"
      ]
     },
     "execution_count": 144,
     "metadata": {},
     "output_type": "execute_result"
    }
   ],
   "source": [
    "plt.figure()\n",
    "plt.pcolormesh(abs(f6))"
   ]
  },
  {
   "cell_type": "code",
   "execution_count": 437,
   "metadata": {},
   "outputs": [
    {
     "data": {
      "text/plain": [
       "<matplotlib.collections.QuadMesh at 0x2030ffa6948>"
      ]
     },
     "execution_count": 437,
     "metadata": {},
     "output_type": "execute_result"
    }
   ],
   "source": [
    "plt.figure()\n",
    "plt.pcolormesh(abs(f1[1]))"
   ]
  },
  {
   "cell_type": "code",
   "execution_count": 422,
   "metadata": {},
   "outputs": [],
   "source": [
    "x=np.linspace(-1/2,3/2,101)\n",
    "a=np.sin(x*np.pi)"
   ]
  },
  {
   "cell_type": "code",
   "execution_count": null,
   "metadata": {},
   "outputs": [],
   "source": [
    "np.roll(a,np.pi)"
   ]
  },
  {
   "cell_type": "code",
   "execution_count": 457,
   "metadata": {
    "collapsed": true
   },
   "outputs": [
    {
     "ename": "ValueError",
     "evalue": "x and y must have same first dimension, but have shapes (101,) and (2,)",
     "output_type": "error",
     "traceback": [
      "\u001b[1;31m---------------------------------------------------------------------------\u001b[0m",
      "\u001b[1;31mValueError\u001b[0m                                Traceback (most recent call last)",
      "\u001b[1;32m<ipython-input-457-740f6cb6681e>\u001b[0m in \u001b[0;36m<module>\u001b[1;34m\u001b[0m\n\u001b[0;32m      1\u001b[0m \u001b[0mplt\u001b[0m\u001b[1;33m.\u001b[0m\u001b[0mfigure\u001b[0m\u001b[1;33m(\u001b[0m\u001b[1;33m)\u001b[0m\u001b[1;33m\u001b[0m\u001b[1;33m\u001b[0m\u001b[0m\n\u001b[0;32m      2\u001b[0m \u001b[1;33m\u001b[0m\u001b[0m\n\u001b[1;32m----> 3\u001b[1;33m \u001b[0mplt\u001b[0m\u001b[1;33m.\u001b[0m\u001b[0mplot\u001b[0m\u001b[1;33m(\u001b[0m\u001b[0mx\u001b[0m\u001b[1;33m+\u001b[0m\u001b[1;36m1\u001b[0m\u001b[1;33m,\u001b[0m\u001b[0ma\u001b[0m\u001b[1;33m)\u001b[0m\u001b[1;33m\u001b[0m\u001b[1;33m\u001b[0m\u001b[0m\n\u001b[0m\u001b[0;32m      4\u001b[0m \u001b[0mplt\u001b[0m\u001b[1;33m.\u001b[0m\u001b[0mplot\u001b[0m\u001b[1;33m(\u001b[0m\u001b[0mx\u001b[0m\u001b[1;33m,\u001b[0m\u001b[0msdvig_pi\u001b[0m\u001b[1;33m(\u001b[0m\u001b[0ma\u001b[0m\u001b[1;33m)\u001b[0m\u001b[1;33m)\u001b[0m\u001b[1;33m\u001b[0m\u001b[1;33m\u001b[0m\u001b[0m\n",
      "\u001b[1;32m~\\anaconda3\\envs\\tf-gpu\\lib\\site-packages\\matplotlib\\pyplot.py\u001b[0m in \u001b[0;36mplot\u001b[1;34m(scalex, scaley, data, *args, **kwargs)\u001b[0m\n\u001b[0;32m   2824\u001b[0m     return gca().plot(\n\u001b[0;32m   2825\u001b[0m         \u001b[1;33m*\u001b[0m\u001b[0margs\u001b[0m\u001b[1;33m,\u001b[0m \u001b[0mscalex\u001b[0m\u001b[1;33m=\u001b[0m\u001b[0mscalex\u001b[0m\u001b[1;33m,\u001b[0m \u001b[0mscaley\u001b[0m\u001b[1;33m=\u001b[0m\u001b[0mscaley\u001b[0m\u001b[1;33m,\u001b[0m\u001b[1;33m\u001b[0m\u001b[1;33m\u001b[0m\u001b[0m\n\u001b[1;32m-> 2826\u001b[1;33m         **({\"data\": data} if data is not None else {}), **kwargs)\n\u001b[0m\u001b[0;32m   2827\u001b[0m \u001b[1;33m\u001b[0m\u001b[0m\n\u001b[0;32m   2828\u001b[0m \u001b[1;33m\u001b[0m\u001b[0m\n",
      "\u001b[1;32m~\\anaconda3\\envs\\tf-gpu\\lib\\site-packages\\matplotlib\\axes\\_axes.py\u001b[0m in \u001b[0;36mplot\u001b[1;34m(self, scalex, scaley, data, *args, **kwargs)\u001b[0m\n\u001b[0;32m   1741\u001b[0m         \"\"\"\n\u001b[0;32m   1742\u001b[0m         \u001b[0mkwargs\u001b[0m \u001b[1;33m=\u001b[0m \u001b[0mcbook\u001b[0m\u001b[1;33m.\u001b[0m\u001b[0mnormalize_kwargs\u001b[0m\u001b[1;33m(\u001b[0m\u001b[0mkwargs\u001b[0m\u001b[1;33m,\u001b[0m \u001b[0mmlines\u001b[0m\u001b[1;33m.\u001b[0m\u001b[0mLine2D\u001b[0m\u001b[1;33m)\u001b[0m\u001b[1;33m\u001b[0m\u001b[1;33m\u001b[0m\u001b[0m\n\u001b[1;32m-> 1743\u001b[1;33m         \u001b[0mlines\u001b[0m \u001b[1;33m=\u001b[0m \u001b[1;33m[\u001b[0m\u001b[1;33m*\u001b[0m\u001b[0mself\u001b[0m\u001b[1;33m.\u001b[0m\u001b[0m_get_lines\u001b[0m\u001b[1;33m(\u001b[0m\u001b[1;33m*\u001b[0m\u001b[0margs\u001b[0m\u001b[1;33m,\u001b[0m \u001b[0mdata\u001b[0m\u001b[1;33m=\u001b[0m\u001b[0mdata\u001b[0m\u001b[1;33m,\u001b[0m \u001b[1;33m**\u001b[0m\u001b[0mkwargs\u001b[0m\u001b[1;33m)\u001b[0m\u001b[1;33m]\u001b[0m\u001b[1;33m\u001b[0m\u001b[1;33m\u001b[0m\u001b[0m\n\u001b[0m\u001b[0;32m   1744\u001b[0m         \u001b[1;32mfor\u001b[0m \u001b[0mline\u001b[0m \u001b[1;32min\u001b[0m \u001b[0mlines\u001b[0m\u001b[1;33m:\u001b[0m\u001b[1;33m\u001b[0m\u001b[1;33m\u001b[0m\u001b[0m\n\u001b[0;32m   1745\u001b[0m             \u001b[0mself\u001b[0m\u001b[1;33m.\u001b[0m\u001b[0madd_line\u001b[0m\u001b[1;33m(\u001b[0m\u001b[0mline\u001b[0m\u001b[1;33m)\u001b[0m\u001b[1;33m\u001b[0m\u001b[1;33m\u001b[0m\u001b[0m\n",
      "\u001b[1;32m~\\anaconda3\\envs\\tf-gpu\\lib\\site-packages\\matplotlib\\axes\\_base.py\u001b[0m in \u001b[0;36m__call__\u001b[1;34m(self, data, *args, **kwargs)\u001b[0m\n\u001b[0;32m    271\u001b[0m                 \u001b[0mthis\u001b[0m \u001b[1;33m+=\u001b[0m \u001b[0margs\u001b[0m\u001b[1;33m[\u001b[0m\u001b[1;36m0\u001b[0m\u001b[1;33m]\u001b[0m\u001b[1;33m,\u001b[0m\u001b[1;33m\u001b[0m\u001b[1;33m\u001b[0m\u001b[0m\n\u001b[0;32m    272\u001b[0m                 \u001b[0margs\u001b[0m \u001b[1;33m=\u001b[0m \u001b[0margs\u001b[0m\u001b[1;33m[\u001b[0m\u001b[1;36m1\u001b[0m\u001b[1;33m:\u001b[0m\u001b[1;33m]\u001b[0m\u001b[1;33m\u001b[0m\u001b[1;33m\u001b[0m\u001b[0m\n\u001b[1;32m--> 273\u001b[1;33m             \u001b[1;32myield\u001b[0m \u001b[1;32mfrom\u001b[0m \u001b[0mself\u001b[0m\u001b[1;33m.\u001b[0m\u001b[0m_plot_args\u001b[0m\u001b[1;33m(\u001b[0m\u001b[0mthis\u001b[0m\u001b[1;33m,\u001b[0m \u001b[0mkwargs\u001b[0m\u001b[1;33m)\u001b[0m\u001b[1;33m\u001b[0m\u001b[1;33m\u001b[0m\u001b[0m\n\u001b[0m\u001b[0;32m    274\u001b[0m \u001b[1;33m\u001b[0m\u001b[0m\n\u001b[0;32m    275\u001b[0m     \u001b[1;32mdef\u001b[0m \u001b[0mget_next_color\u001b[0m\u001b[1;33m(\u001b[0m\u001b[0mself\u001b[0m\u001b[1;33m)\u001b[0m\u001b[1;33m:\u001b[0m\u001b[1;33m\u001b[0m\u001b[1;33m\u001b[0m\u001b[0m\n",
      "\u001b[1;32m~\\anaconda3\\envs\\tf-gpu\\lib\\site-packages\\matplotlib\\axes\\_base.py\u001b[0m in \u001b[0;36m_plot_args\u001b[1;34m(self, tup, kwargs)\u001b[0m\n\u001b[0;32m    397\u001b[0m \u001b[1;33m\u001b[0m\u001b[0m\n\u001b[0;32m    398\u001b[0m         \u001b[1;32mif\u001b[0m \u001b[0mx\u001b[0m\u001b[1;33m.\u001b[0m\u001b[0mshape\u001b[0m\u001b[1;33m[\u001b[0m\u001b[1;36m0\u001b[0m\u001b[1;33m]\u001b[0m \u001b[1;33m!=\u001b[0m \u001b[0my\u001b[0m\u001b[1;33m.\u001b[0m\u001b[0mshape\u001b[0m\u001b[1;33m[\u001b[0m\u001b[1;36m0\u001b[0m\u001b[1;33m]\u001b[0m\u001b[1;33m:\u001b[0m\u001b[1;33m\u001b[0m\u001b[1;33m\u001b[0m\u001b[0m\n\u001b[1;32m--> 399\u001b[1;33m             raise ValueError(f\"x and y must have same first dimension, but \"\n\u001b[0m\u001b[0;32m    400\u001b[0m                              f\"have shapes {x.shape} and {y.shape}\")\n\u001b[0;32m    401\u001b[0m         \u001b[1;32mif\u001b[0m \u001b[0mx\u001b[0m\u001b[1;33m.\u001b[0m\u001b[0mndim\u001b[0m \u001b[1;33m>\u001b[0m \u001b[1;36m2\u001b[0m \u001b[1;32mor\u001b[0m \u001b[0my\u001b[0m\u001b[1;33m.\u001b[0m\u001b[0mndim\u001b[0m \u001b[1;33m>\u001b[0m \u001b[1;36m2\u001b[0m\u001b[1;33m:\u001b[0m\u001b[1;33m\u001b[0m\u001b[1;33m\u001b[0m\u001b[0m\n",
      "\u001b[1;31mValueError\u001b[0m: x and y must have same first dimension, but have shapes (101,) and (2,)"
     ]
    }
   ],
   "source": [
    "plt.figure()\n",
    "\n",
    "plt.plot(x+1,a)\n",
    "plt.plot(x,sdvig_pi(a))"
   ]
  },
  {
   "cell_type": "code",
   "execution_count": 139,
   "metadata": {},
   "outputs": [],
   "source": [
    "def n_phi(fm2,n,phi):\n",
    "    f=tensordot(linspace(0j,0,phi.shape[0]),linspace(0j,0,fm2.shape[1]),axes=0)\n",
    "    for j in range(0,fm2.shape[1]):\n",
    "        for i in range(0,phi.shape[0]):\n",
    "            f[i,j]=sum(np.exp(1j*phi[i]*n)*fm2[:,j])\n",
    "    return f"
   ]
  },
  {
   "cell_type": "code",
   "execution_count": 140,
   "metadata": {},
   "outputs": [
    {
     "name": "stderr",
     "output_type": "stream",
     "text": [
      "100%|████████████████████████████████████████████████████████████████████████████████| 200/200 [05:32<00:00,  1.66s/it]\n"
     ]
    }
   ],
   "source": [
    "f1=[]\n",
    "for i in tqdm.tqdm(range(0,nq)):\n",
    "    #plt.figure()\n",
    "    n=np.linspace(a[0],b[0],dim[0])\n",
    "    theta=np.linspace(-np.pi/2,np.pi*3/2,251)\n",
    "    f1.append(n_phi(f[i],n,theta))\n",
    "    #plt.pcolormesh(np.abs(f1[i]))"
   ]
  },
  {
   "cell_type": "code",
   "execution_count": 54,
   "metadata": {},
   "outputs": [
    {
     "data": {
      "text/plain": [
       "<matplotlib.collections.QuadMesh at 0x1cf24f215c8>"
      ]
     },
     "execution_count": 54,
     "metadata": {},
     "output_type": "execute_result"
    }
   ],
   "source": [
    "plt.figure()\n",
    "plt.pcolormesh(np.abs(f2[0]))"
   ]
  },
  {
   "cell_type": "code",
   "execution_count": 143,
   "metadata": {},
   "outputs": [],
   "source": [
    "def sdvig_pi(f):\n",
    "    if f.shape[0]%2==0:\n",
    "        print('ERROR Shape should be odd')\n",
    "        return 0\n",
    "    n=f.shape[0]//2\n",
    "    f1=copy.copy(f)\n",
    "    f1[:n+1]=f[n:]\n",
    "    f1[n:]=f[:n+1]\n",
    "    return f1"
   ]
  },
  {
   "cell_type": "code",
   "execution_count": 144,
   "metadata": {},
   "outputs": [],
   "source": [
    "f2=[]\n",
    "for i in range(0,1):\n",
    "    plt.figure()\n",
    "    f2.append(sdvig_pi(f1[i]))\n",
    "    plt.pcolormesh(np.abs(f2[i]))"
   ]
  },
  {
   "cell_type": "code",
   "execution_count": 60,
   "metadata": {},
   "outputs": [
    {
     "data": {
      "text/plain": [
       "0.9029918688238342"
      ]
     },
     "execution_count": 60,
     "metadata": {},
     "output_type": "execute_result"
    }
   ],
   "source": [
    "abs(np.einsum('ij,ij',f1[1],f2[0].conjugate())/(f1[i].shape[0]-1))**2"
   ]
  },
  {
   "cell_type": "code",
   "execution_count": 61,
   "metadata": {},
   "outputs": [
    {
     "data": {
      "text/plain": [
       "0.9030127374390042"
      ]
     },
     "execution_count": 61,
     "metadata": {},
     "output_type": "execute_result"
    }
   ],
   "source": [
    "c=[]\n",
    "for i in range(0,nq):\n",
    "    c.append(abs(np.einsum('ij,ij',f1[i],f2[0].conjugate())/(f1[i].shape[0]-1)))\n",
    "sum(np.asarray(c)**2)"
   ]
  },
  {
   "cell_type": "code",
   "execution_count": 9,
   "metadata": {},
   "outputs": [
    {
     "data": {
      "text/plain": [
       "(40, 71, 351)"
      ]
     },
     "execution_count": 9,
     "metadata": {},
     "output_type": "execute_result"
    }
   ],
   "source": [
    "np.asarray(f).shape"
   ]
  },
  {
   "cell_type": "code",
   "execution_count": null,
   "metadata": {},
   "outputs": [],
   "source": []
  },
  {
   "cell_type": "code",
   "execution_count": 372,
   "metadata": {
    "collapsed": true
   },
   "outputs": [
    {
     "ename": "TypeError",
     "evalue": "Incompatible X, Y inputs to pcolormesh; see help(pcolormesh)",
     "output_type": "error",
     "traceback": [
      "\u001b[1;31m---------------------------------------------------------------------------\u001b[0m",
      "\u001b[1;31mTypeError\u001b[0m                                 Traceback (most recent call last)",
      "\u001b[1;32m<ipython-input-372-3200331a1447>\u001b[0m in \u001b[0;36m<module>\u001b[1;34m\u001b[0m\n\u001b[0;32m      3\u001b[0m \u001b[0mphi\u001b[0m\u001b[1;33m=\u001b[0m\u001b[0mnp\u001b[0m\u001b[1;33m.\u001b[0m\u001b[0mlinspace\u001b[0m\u001b[1;33m(\u001b[0m\u001b[0ma\u001b[0m\u001b[1;33m[\u001b[0m\u001b[1;36m1\u001b[0m\u001b[1;33m]\u001b[0m\u001b[1;33m,\u001b[0m\u001b[0mb\u001b[0m\u001b[1;33m[\u001b[0m\u001b[1;36m1\u001b[0m\u001b[1;33m]\u001b[0m\u001b[1;33m,\u001b[0m\u001b[0mdim\u001b[0m\u001b[1;33m[\u001b[0m\u001b[1;36m1\u001b[0m\u001b[1;33m]\u001b[0m\u001b[1;33m)\u001b[0m\u001b[1;33m\u001b[0m\u001b[1;33m\u001b[0m\u001b[0m\n\u001b[0;32m      4\u001b[0m \u001b[1;32mfor\u001b[0m \u001b[0mi\u001b[0m \u001b[1;32min\u001b[0m \u001b[0mrange\u001b[0m\u001b[1;33m(\u001b[0m\u001b[1;36m0\u001b[0m\u001b[1;33m,\u001b[0m\u001b[1;36m2\u001b[0m\u001b[1;33m)\u001b[0m\u001b[1;33m:\u001b[0m\u001b[1;33m\u001b[0m\u001b[1;33m\u001b[0m\u001b[0m\n\u001b[1;32m----> 5\u001b[1;33m     \u001b[0maxs\u001b[0m\u001b[1;33m[\u001b[0m\u001b[0mi\u001b[0m\u001b[1;33m,\u001b[0m\u001b[1;36m0\u001b[0m\u001b[1;33m]\u001b[0m\u001b[1;33m.\u001b[0m\u001b[0mpcolormesh\u001b[0m\u001b[1;33m(\u001b[0m\u001b[0mphi\u001b[0m\u001b[1;33m,\u001b[0m\u001b[0mn\u001b[0m\u001b[1;33m,\u001b[0m\u001b[0mf\u001b[0m\u001b[1;33m[\u001b[0m\u001b[0mi\u001b[0m\u001b[1;33m]\u001b[0m\u001b[1;33m)\u001b[0m\u001b[1;33m\u001b[0m\u001b[1;33m\u001b[0m\u001b[0m\n\u001b[0m\u001b[0;32m      6\u001b[0m     \u001b[0maxs\u001b[0m\u001b[1;33m[\u001b[0m\u001b[0mi\u001b[0m\u001b[1;33m,\u001b[0m\u001b[1;36m0\u001b[0m\u001b[1;33m]\u001b[0m\u001b[1;33m.\u001b[0m\u001b[0mset_ylabel\u001b[0m\u001b[1;33m(\u001b[0m\u001b[1;34mr'$n$'\u001b[0m\u001b[1;33m,\u001b[0m\u001b[0mfontsize\u001b[0m\u001b[1;33m=\u001b[0m\u001b[0msize\u001b[0m\u001b[1;33m)\u001b[0m\u001b[1;33m\u001b[0m\u001b[1;33m\u001b[0m\u001b[0m\n\u001b[0;32m      7\u001b[0m     \u001b[0maxs\u001b[0m\u001b[1;33m[\u001b[0m\u001b[0mi\u001b[0m\u001b[1;33m,\u001b[0m\u001b[1;36m0\u001b[0m\u001b[1;33m]\u001b[0m\u001b[1;33m.\u001b[0m\u001b[0mset_title\u001b[0m\u001b[1;33m(\u001b[0m\u001b[1;34mr'$\\psi_{}$'\u001b[0m\u001b[1;33m.\u001b[0m\u001b[0mformat\u001b[0m\u001b[1;33m(\u001b[0m\u001b[0mi\u001b[0m\u001b[1;33m)\u001b[0m\u001b[1;33m,\u001b[0m\u001b[0mfontsize\u001b[0m\u001b[1;33m=\u001b[0m\u001b[0msize\u001b[0m\u001b[1;33m)\u001b[0m\u001b[1;33m\u001b[0m\u001b[1;33m\u001b[0m\u001b[0m\n",
      "\u001b[1;32m~\\anaconda3\\envs\\tf-gpu\\lib\\site-packages\\matplotlib\\__init__.py\u001b[0m in \u001b[0;36minner\u001b[1;34m(ax, data, *args, **kwargs)\u001b[0m\n\u001b[0;32m   1436\u001b[0m     \u001b[1;32mdef\u001b[0m \u001b[0minner\u001b[0m\u001b[1;33m(\u001b[0m\u001b[0max\u001b[0m\u001b[1;33m,\u001b[0m \u001b[1;33m*\u001b[0m\u001b[0margs\u001b[0m\u001b[1;33m,\u001b[0m \u001b[0mdata\u001b[0m\u001b[1;33m=\u001b[0m\u001b[1;32mNone\u001b[0m\u001b[1;33m,\u001b[0m \u001b[1;33m**\u001b[0m\u001b[0mkwargs\u001b[0m\u001b[1;33m)\u001b[0m\u001b[1;33m:\u001b[0m\u001b[1;33m\u001b[0m\u001b[1;33m\u001b[0m\u001b[0m\n\u001b[0;32m   1437\u001b[0m         \u001b[1;32mif\u001b[0m \u001b[0mdata\u001b[0m \u001b[1;32mis\u001b[0m \u001b[1;32mNone\u001b[0m\u001b[1;33m:\u001b[0m\u001b[1;33m\u001b[0m\u001b[1;33m\u001b[0m\u001b[0m\n\u001b[1;32m-> 1438\u001b[1;33m             \u001b[1;32mreturn\u001b[0m \u001b[0mfunc\u001b[0m\u001b[1;33m(\u001b[0m\u001b[0max\u001b[0m\u001b[1;33m,\u001b[0m \u001b[1;33m*\u001b[0m\u001b[0mmap\u001b[0m\u001b[1;33m(\u001b[0m\u001b[0msanitize_sequence\u001b[0m\u001b[1;33m,\u001b[0m \u001b[0margs\u001b[0m\u001b[1;33m)\u001b[0m\u001b[1;33m,\u001b[0m \u001b[1;33m**\u001b[0m\u001b[0mkwargs\u001b[0m\u001b[1;33m)\u001b[0m\u001b[1;33m\u001b[0m\u001b[1;33m\u001b[0m\u001b[0m\n\u001b[0m\u001b[0;32m   1439\u001b[0m \u001b[1;33m\u001b[0m\u001b[0m\n\u001b[0;32m   1440\u001b[0m         \u001b[0mbound\u001b[0m \u001b[1;33m=\u001b[0m \u001b[0mnew_sig\u001b[0m\u001b[1;33m.\u001b[0m\u001b[0mbind\u001b[0m\u001b[1;33m(\u001b[0m\u001b[0max\u001b[0m\u001b[1;33m,\u001b[0m \u001b[1;33m*\u001b[0m\u001b[0margs\u001b[0m\u001b[1;33m,\u001b[0m \u001b[1;33m**\u001b[0m\u001b[0mkwargs\u001b[0m\u001b[1;33m)\u001b[0m\u001b[1;33m\u001b[0m\u001b[1;33m\u001b[0m\u001b[0m\n",
      "\u001b[1;32m~\\anaconda3\\envs\\tf-gpu\\lib\\site-packages\\matplotlib\\axes\\_axes.py\u001b[0m in \u001b[0;36mpcolormesh\u001b[1;34m(self, alpha, norm, cmap, vmin, vmax, shading, antialiased, *args, **kwargs)\u001b[0m\n\u001b[0;32m   6084\u001b[0m \u001b[1;33m\u001b[0m\u001b[0m\n\u001b[0;32m   6085\u001b[0m         X, Y, C, shading = self._pcolorargs('pcolormesh', *args,\n\u001b[1;32m-> 6086\u001b[1;33m                                             shading=shading)\n\u001b[0m\u001b[0;32m   6087\u001b[0m         \u001b[0mNy\u001b[0m\u001b[1;33m,\u001b[0m \u001b[0mNx\u001b[0m \u001b[1;33m=\u001b[0m \u001b[0mX\u001b[0m\u001b[1;33m.\u001b[0m\u001b[0mshape\u001b[0m\u001b[1;33m\u001b[0m\u001b[1;33m\u001b[0m\u001b[0m\n\u001b[0;32m   6088\u001b[0m         \u001b[0mX\u001b[0m \u001b[1;33m=\u001b[0m \u001b[0mX\u001b[0m\u001b[1;33m.\u001b[0m\u001b[0mravel\u001b[0m\u001b[1;33m(\u001b[0m\u001b[1;33m)\u001b[0m\u001b[1;33m\u001b[0m\u001b[1;33m\u001b[0m\u001b[0m\n",
      "\u001b[1;32m~\\anaconda3\\envs\\tf-gpu\\lib\\site-packages\\matplotlib\\axes\\_axes.py\u001b[0m in \u001b[0;36m_pcolorargs\u001b[1;34m(funcname, shading, *args)\u001b[0m\n\u001b[0;32m   5596\u001b[0m             raise TypeError(\n\u001b[0;32m   5597\u001b[0m                 'Incompatible X, Y inputs to %s; see help(%s)' % (\n\u001b[1;32m-> 5598\u001b[1;33m                 funcname, funcname))\n\u001b[0m\u001b[0;32m   5599\u001b[0m \u001b[1;33m\u001b[0m\u001b[0m\n\u001b[0;32m   5600\u001b[0m         \u001b[1;32mif\u001b[0m \u001b[0mshading\u001b[0m \u001b[1;33m==\u001b[0m \u001b[1;34m'auto'\u001b[0m\u001b[1;33m:\u001b[0m\u001b[1;33m\u001b[0m\u001b[1;33m\u001b[0m\u001b[0m\n",
      "\u001b[1;31mTypeError\u001b[0m: Incompatible X, Y inputs to pcolormesh; see help(pcolormesh)"
     ]
    }
   ],
   "source": [
    "size=15\n",
    "fig, axs = plt.subplots(ncols=3, nrows=2,figsize=(16,9),sharex=True)\n",
    "phi=np.linspace(a[1],b[1],dim[1])\n",
    "for i in range(0,2):\n",
    "    axs[i,0].pcolormesh(phi,n,f[i])\n",
    "    axs[i,0].set_ylabel(r'$n$',fontsize=size)\n",
    "    axs[i,0].set_title(r'$\\psi_{}$'.format(i),fontsize=size)\n",
    "for i in range(0,2):\n",
    "    axs[i,1].pcolormesh(phi,theta,abs(f1[i]))\n",
    "    axs[i,1].set_ylabel(r'$\\theta$',fontsize=size)\n",
    "    axs[i,2].set_ylabel(r'$\\theta$',fontsize=size)\n",
    "    axs[i,1].set_title(r'$\\psi_{}$'.format(i),fontsize=size)\n",
    "axs[1,2].pcolormesh(phi,theta,abs(f2[0]))\n",
    "axs[1,2].set_title(r'$\\psi_{}$'.format(0),fontsize=size)\n",
    "U=El1*np.tensordot(theta**0,phi**2,axes=0)+2*Ej*(1-np.cos(np.tensordot(theta**0,phi,axes=0))*np.cos(np.tensordot(theta,phi**0,axes=0)))\n",
    "axs[0,2].pcolormesh(phi,theta,U)\n",
    "axs[0,2].set_title(r'$U$',fontsize=size)\n",
    "for i in range(0,3):\n",
    "    axs[1,i].set_xlabel(r'$\\phi$',fontsize=size)\n",
    "plt.tight_layout()"
   ]
  },
  {
   "cell_type": "markdown",
   "metadata": {},
   "source": [
    "## Оператор заряда"
   ]
  },
  {
   "cell_type": "code",
   "execution_count": 43,
   "metadata": {},
   "outputs": [
    {
     "name": "stdout",
     "output_type": "stream",
     "text": [
      "0.06300000002374873\n"
     ]
    }
   ],
   "source": [
    "start=time.monotonic()\n",
    "nq=r#dim[0]\n",
    "n=np.diag(np.linspace(a[0]+0j,b[0],dim[0]))\n",
    "#n_new=tf.einsum('mil,kil->mk',np.asarray(f),np.asarray(f).conjugate())\n",
    "n_new=tf.einsum('mil,ij,kjl->mk',np.asarray(f),n,np.asarray(f).conjugate())\n",
    "#n_new=np.round(n_new,6)\n",
    "print(time.monotonic()-start)"
   ]
  },
  {
   "cell_type": "code",
   "execution_count": 44,
   "metadata": {},
   "outputs": [
    {
     "name": "stdout",
     "output_type": "stream",
     "text": [
      "0.046999999962281436\n"
     ]
    }
   ],
   "source": [
    "start=time.monotonic()\n",
    "nq=40#dim[0]\n",
    "n=np.diag(np.linspace(a[0]+0j,b[0],dim[0]))\n",
    "#n_200=tf.einsum('mil,kil->mk',np.asarray(f_200),np.asarray(f_200).conjugate())\n",
    "n_200=tf.einsum('mil,ij,kjl->mk',np.asarray(f_200),n,np.asarray(f_200).conjugate())\n",
    "#n_200=np.round(n_200,6)\n",
    "print(time.monotonic()-start)"
   ]
  },
  {
   "cell_type": "code",
   "execution_count": 26,
   "metadata": {},
   "outputs": [],
   "source": [
    "n=tf.einsum('mjl,kjl->mk',np.asarray(f),np.asarray(f_200).conjugate())"
   ]
  },
  {
   "cell_type": "code",
   "execution_count": 27,
   "metadata": {},
   "outputs": [
    {
     "name": "stdout",
     "output_type": "stream",
     "text": [
      "0 tf.Tensor(4.4378913304418743e-10, shape=(), dtype=float64)\n",
      "1 tf.Tensor(4.437930564822437e-10, shape=(), dtype=float64)\n",
      "2 tf.Tensor(2.112696274738094e-10, shape=(), dtype=float64)\n",
      "3 tf.Tensor(2.1127692604103128e-10, shape=(), dtype=float64)\n",
      "4 tf.Tensor(5.57420823252214e-10, shape=(), dtype=float64)\n",
      "5 tf.Tensor(5.574745907194089e-10, shape=(), dtype=float64)\n",
      "6 tf.Tensor(1.2429507628181696e-11, shape=(), dtype=float64)\n",
      "7 tf.Tensor(1.2431512618996721e-11, shape=(), dtype=float64)\n",
      "8 tf.Tensor(3.031086799383411e-12, shape=(), dtype=float64)\n",
      "9 tf.Tensor(7.244922826011092e-12, shape=(), dtype=float64)\n",
      "10 tf.Tensor(7.256183981875884e-12, shape=(), dtype=float64)\n",
      "11 tf.Tensor(4.3121701465272065e-12, shape=(), dtype=float64)\n",
      "12 tf.Tensor(4.315335401200836e-12, shape=(), dtype=float64)\n",
      "13 tf.Tensor(6.199736123935256e-10, shape=(), dtype=float64)\n",
      "14 tf.Tensor(6.199628373729596e-10, shape=(), dtype=float64)\n",
      "15 tf.Tensor(2.1020085473872394e-09, shape=(), dtype=float64)\n",
      "16 tf.Tensor(2.102013208797852e-09, shape=(), dtype=float64)\n",
      "17 tf.Tensor(3.6437901441709123e-08, shape=(), dtype=float64)\n",
      "18 tf.Tensor(3.643791065096402e-08, shape=(), dtype=float64)\n",
      "19 tf.Tensor(4.652756955288657e-12, shape=(), dtype=float64)\n",
      "20 tf.Tensor(2.0518204821058396e-12, shape=(), dtype=float64)\n",
      "21 tf.Tensor(6.174845398974949e-12, shape=(), dtype=float64)\n",
      "22 tf.Tensor(9.589668070750452e-12, shape=(), dtype=float64)\n",
      "23 tf.Tensor(4.02463319895713e-07, shape=(), dtype=float64)\n",
      "24 tf.Tensor(4.0246331145211957e-07, shape=(), dtype=float64)\n",
      "25 tf.Tensor(1.4508426140602864e-11, shape=(), dtype=float64)\n",
      "26 tf.Tensor(1.4513829854480867e-11, shape=(), dtype=float64)\n",
      "27 tf.Tensor(7.552378904611599e-07, shape=(), dtype=float64)\n",
      "28 tf.Tensor(7.552378839812212e-07, shape=(), dtype=float64)\n",
      "29 tf.Tensor(2.2073246894920444e-11, shape=(), dtype=float64)\n",
      "30 tf.Tensor(2.2083054614685334e-11, shape=(), dtype=float64)\n",
      "31 tf.Tensor(8.707718281170133e-12, shape=(), dtype=float64)\n",
      "32 tf.Tensor(8.713279415951158e-12, shape=(), dtype=float64)\n",
      "33 tf.Tensor(2.4131917060650893e-12, shape=(), dtype=float64)\n",
      "34 tf.Tensor(0.0025903138808374, shape=(), dtype=float64)\n",
      "35 tf.Tensor(0.002590313880818765, shape=(), dtype=float64)\n",
      "36 tf.Tensor(7.970749481280276e-13, shape=(), dtype=float64)\n",
      "37 tf.Tensor(2.5315667537642676e-12, shape=(), dtype=float64)\n",
      "38 tf.Tensor(1.0996467681915836e-10, shape=(), dtype=float64)\n",
      "39 tf.Tensor(1.0997003332162624e-10, shape=(), dtype=float64)\n"
     ]
    }
   ],
   "source": [
    "for i in range(0,40):\n",
    "    print(i,abs(n[i])[np.argsort(-abs(n[i]))[1]])"
   ]
  },
  {
   "cell_type": "code",
   "execution_count": 45,
   "metadata": {},
   "outputs": [
    {
     "data": {
      "text/plain": [
       "0.08758566853051887"
      ]
     },
     "execution_count": 45,
     "metadata": {},
     "output_type": "execute_result"
    }
   ],
   "source": [
    "np.linalg.norm(np.real(n_new-n_200))"
   ]
  },
  {
   "cell_type": "code",
   "execution_count": 16,
   "metadata": {},
   "outputs": [
    {
     "name": "stdout",
     "output_type": "stream",
     "text": [
      "0 0j\n",
      "1 0j\n",
      "2 0j\n",
      "3 0j\n",
      "4 0j\n",
      "5 0j\n",
      "6 0j\n",
      "7 0j\n",
      "8 0j\n",
      "9 0j\n",
      "10 0j\n",
      "11 0j\n",
      "12 0j\n",
      "13 0j\n",
      "14 0j\n",
      "15 0j\n",
      "16 (8.000000000000001e-06+0j)\n",
      "17 0j\n",
      "18 0j\n",
      "19 (-0+0j)\n",
      "20 0j\n",
      "21 0j\n",
      "22 0j\n",
      "23 0j\n",
      "24 (0.0002509999999999999+0j)\n",
      "25 0j\n",
      "26 0j\n",
      "27 0j\n",
      "28 0j\n",
      "29 (-0+0j)\n",
      "30 0j\n",
      "31 0j\n",
      "32 0j\n",
      "33 (-0+0j)\n",
      "34 (-1.9999999999242846e-05+0j)\n",
      "35 (-0.009829000000000001+0j)\n",
      "36 0j\n",
      "37 0j\n",
      "38 0j\n",
      "39 0j\n"
     ]
    }
   ],
   "source": [
    "i=0\n",
    "j=6\n",
    "for i in range(0,40):\n",
    "    print(i,(n_new-n_200)[35,i])"
   ]
  },
  {
   "cell_type": "code",
   "execution_count": 295,
   "metadata": {},
   "outputs": [
    {
     "data": {
      "text/plain": [
       "<tf.Tensor: shape=(1,), dtype=float64, numpy=array([0.99999891])>"
      ]
     },
     "execution_count": 295,
     "metadata": {},
     "output_type": "execute_result"
    }
   ],
   "source": [
    "nq=r\n",
    "psi0=np.zeros((nq,1),dtype=complex)\n",
    "psi0[0]=1\n",
    "amp=(tf.linalg.expm(-1j*(n_new[:nq,:nq])*np.pi)@psi0)\n",
    "abs(amp[1])**2"
   ]
  },
  {
   "cell_type": "code",
   "execution_count": 97,
   "metadata": {},
   "outputs": [],
   "source": [
    "# think about writting of interaction hamiltoninian (there is an exponenta depending on time)\n",
    "def evolution(nq,H1,V1,dt,step,w):\n",
    "    start=time.monotonic()\n",
    "    # density matrix\n",
    "    #ro=np.zeros((nq,nq),dtype=complex)\n",
    "    #ro[0,0]=1\n",
    "    psi0=np.zeros((nq,1),dtype=complex)\n",
    "    psi0[0]=1\n",
    "    #psi0[1]=0\n",
    "    #psi0=fm[:,0:1,0,0]\n",
    "    psi=[]\n",
    "    with tf.device(\"GPU:0\"):\n",
    "        for j in tqdm.tqdm(range(0,w.shape[0])):\n",
    "            V=V1*w[j]\n",
    "            psi1=[]\n",
    "            psi1.append(psi0)\n",
    "            for i in range(0,step):\n",
    "                a=(tf.linalg.expm(-1j*(H1+V)*dt)@psi1[i])\n",
    "                psi1.append(a/np.linalg.norm(a))\n",
    "                \n",
    "                #psi1.append(tf.linalg.expm(1j*(H1+V)*dt/w[j])@psi1[i])\n",
    "                \n",
    "                #psi1.append(np.linalg.norm(tf.linalg.expm(1j*(H1+V)*dt*i)@psi0))\n",
    "                #psi1.append(tf.linalg.expm(1j*(H1+V)*dt*i)@psi0)\n",
    "                #psi1.append(tf.linalg.expm(-1j*(V)*2*np.pi)@tf.linalg.expm(1j*(H1)*dt*i)@tf.linalg.expm(1j*(V)*np.pi)@psi0)\n",
    "                #psi1.append(tf.linalg.expm(-1j*(V)*np.pi/2)@tf.linalg.expm(1j*(H1)*dt*i)@tf.linalg.expm(1j*(V)*np.pi/2)@psi0)\n",
    "            psi.append(np.asarray(psi1))\n",
    "        print(time.monotonic()-start)\n",
    "    return np.asarray(psi)"
   ]
  },
  {
   "cell_type": "code",
   "execution_count": 183,
   "metadata": {},
   "outputs": [
    {
     "name": "stderr",
     "output_type": "stream",
     "text": [
      "100%|██████████████████████████████████████████████████████████████████████████████████| 18/18 [23:00<00:00, 76.72s/it]"
     ]
    },
    {
     "name": "stdout",
     "output_type": "stream",
     "text": [
      "1380.8910000000033\n"
     ]
    },
    {
     "name": "stderr",
     "output_type": "stream",
     "text": [
      "\n"
     ]
    }
   ],
   "source": [
    "w=np.linspace(3,12,9)\n",
    "step=10000\n",
    "dt=12.5/step\n",
    "nq=40\n",
    "(psi)=evolution(nq,B[:nq,0,0]-B[0,0,0],n_new[:nq,:nq],dt,step,w)"
   ]
  },
  {
   "cell_type": "code",
   "execution_count": 192,
   "metadata": {},
   "outputs": [
    {
     "data": {
      "text/plain": [
       "0.9551772980790789"
      ]
     },
     "execution_count": 192,
     "metadata": {},
     "output_type": "execute_result"
    }
   ],
   "source": [
    "max(np.abs(psi[0,:,1,0])**2)"
   ]
  },
  {
   "cell_type": "code",
   "execution_count": 167,
   "metadata": {},
   "outputs": [
    {
     "data": {
      "text/plain": [
       "0.9123636707656496"
      ]
     },
     "execution_count": 167,
     "metadata": {},
     "output_type": "execute_result"
    }
   ],
   "source": [
    "max(np.abs(psi[0,:,1,0])**2)"
   ]
  },
  {
   "cell_type": "code",
   "execution_count": 55,
   "metadata": {},
   "outputs": [
    {
     "data": {
      "text/plain": [
       "(1, 2, 40, 1)"
      ]
     },
     "execution_count": 55,
     "metadata": {},
     "output_type": "execute_result"
    }
   ],
   "source": [
    "psi.shape"
   ]
  },
  {
   "cell_type": "code",
   "execution_count": 197,
   "metadata": {},
   "outputs": [
    {
     "name": "stderr",
     "output_type": "stream",
     "text": [
      "C:\\Users\\mazho\\anaconda3\\envs\\tf-gpu\\lib\\site-packages\\ipykernel_launcher.py:4: MatplotlibDeprecationWarning: shading='flat' when X and Y have the same dimensions as C is deprecated since 3.3.  Either specify the corners of the quadrilaterals with X and Y, or pass shading='auto', 'nearest' or 'gouraud', or set rcParams['pcolor.shading'].  This will become an error two minor releases later.\n",
      "  after removing the cwd from sys.path.\n"
     ]
    },
    {
     "data": {
      "text/plain": [
       "<matplotlib.colorbar.Colorbar at 0x2469a2ee848>"
      ]
     },
     "execution_count": 197,
     "metadata": {},
     "output_type": "execute_result"
    }
   ],
   "source": [
    "plt.figure()\n",
    "step1=step+1\n",
    "t=np.linspace(dt,step1*dt,step1)\n",
    "plt.pcolormesh(t,w,np.abs(psi[:,:,1,0])**2)\n",
    "plt.colorbar()"
   ]
  },
  {
   "cell_type": "code",
   "execution_count": 48,
   "metadata": {},
   "outputs": [],
   "source": [
    "# only for digit w\n",
    "def right_scale(w,dt,step,psi):\n",
    "    plt.figure()\n",
    "    for i in range(0,w.shape[0]):\n",
    "        t=np.linspace(0,dt/w[i]*(step+1),(step+1))\n",
    "        plt.pcolormesh(t,w[i:i+2],abs(psi[i:i+2,:])**2,vmin=0,vmax=0.9998341839370054)\n",
    "        \n",
    "    plt.colorbar()"
   ]
  },
  {
   "cell_type": "code",
   "execution_count": 33,
   "metadata": {},
   "outputs": [
    {
     "name": "stderr",
     "output_type": "stream",
     "text": [
      "C:\\Users\\mazho\\anaconda3\\envs\\tf-gpu\\lib\\site-packages\\ipykernel_launcher.py:6: MatplotlibDeprecationWarning: shading='flat' when X and Y have the same dimensions as C is deprecated since 3.3.  Either specify the corners of the quadrilaterals with X and Y, or pass shading='auto', 'nearest' or 'gouraud', or set rcParams['pcolor.shading'].  This will become an error two minor releases later.\n",
      "  \n"
     ]
    }
   ],
   "source": [
    "right_scale(w,dt,step,psi[:,:,1,0])"
   ]
  },
  {
   "cell_type": "code",
   "execution_count": 199,
   "metadata": {},
   "outputs": [],
   "source": [
    "step1=step+1\n",
    "t=np.linspace(dt,step1*dt,step1)\n",
    "plt.figure()\n",
    "for i in range(0,11):\n",
    "    plt.plot(t,np.abs(psi[0,:step1,i,0])**2)"
   ]
  }
 ],
 "metadata": {
  "kernelspec": {
   "display_name": "Python 3",
   "language": "python",
   "name": "python3"
  },
  "language_info": {
   "codemirror_mode": {
    "name": "ipython",
    "version": 3
   },
   "file_extension": ".py",
   "mimetype": "text/x-python",
   "name": "python",
   "nbconvert_exporter": "python",
   "pygments_lexer": "ipython3",
   "version": "3.7.9"
  },
  "latex_envs": {
   "LaTeX_envs_menu_present": true,
   "autoclose": false,
   "autocomplete": true,
   "bibliofile": "biblio.bib",
   "cite_by": "apalike",
   "current_citInitial": 1,
   "eqLabelWithNumbers": true,
   "eqNumInitial": 1,
   "hotkeys": {
    "equation": "Ctrl-E",
    "itemize": "Ctrl-I"
   },
   "labels_anchors": false,
   "latex_user_defs": false,
   "report_style_numbering": false,
   "user_envs_cfg": false
  },
  "toc": {
   "base_numbering": 1,
   "nav_menu": {},
   "number_sections": true,
   "sideBar": true,
   "skip_h1_title": false,
   "title_cell": "Table of Contents",
   "title_sidebar": "Contents",
   "toc_cell": false,
   "toc_position": {},
   "toc_section_display": true,
   "toc_window_display": false
  },
  "varInspector": {
   "cols": {
    "lenName": 16,
    "lenType": 16,
    "lenVar": 40
   },
   "kernels_config": {
    "python": {
     "delete_cmd_postfix": "",
     "delete_cmd_prefix": "del ",
     "library": "var_list.py",
     "varRefreshCmd": "print(var_dic_list())"
    },
    "r": {
     "delete_cmd_postfix": ") ",
     "delete_cmd_prefix": "rm(",
     "library": "var_list.r",
     "varRefreshCmd": "cat(var_dic_list()) "
    }
   },
   "types_to_exclude": [
    "module",
    "function",
    "builtin_function_or_method",
    "instance",
    "_Feature"
   ],
   "window_display": false
  }
 },
 "nbformat": 4,
 "nbformat_minor": 4
}
